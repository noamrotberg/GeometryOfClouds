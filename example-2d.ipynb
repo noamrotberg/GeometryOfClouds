{
 "cells": [
  {
   "cell_type": "markdown",
   "metadata": {},
   "source": [
    "# Example for module\n",
    "\n",
    "This is an example how our module can be used to compute connected components of data on a regulartriangle tiling."
   ]
  },
  {
   "cell_type": "markdown",
   "metadata": {},
   "source": [
    "Import the module for connected components ... (vollständer Titel hier einfügen):"
   ]
  },
  {
   "cell_type": "code",
   "execution_count": 1,
   "metadata": {},
   "outputs": [],
   "source": [
    "import module_3dccl as ccl\n",
    "ccl.path_input(path = '/work/bb1018/b380906/getting_started/', file = 'icon-grid_nawdex_78w40e23n80n_R80000m.nc', \n",
    "                 datafile = 'nawdexnwp-80km-mis-0001_2016092200_2d_30min_DOM01_ML_0020.nc')"
   ]
  },
  {
   "cell_type": "markdown",
   "metadata": {},
   "source": [
    "Define radius and start_triangle:"
   ]
  },
  {
   "cell_type": "code",
   "execution_count": 6,
   "metadata": {},
   "outputs": [],
   "source": [
    "radius = 58\n",
    "start_triangle = 5736"
   ]
  },
  {
   "cell_type": "markdown",
   "metadata": {},
   "source": [
    "Note the following radius choices in our grid for this start_triangle = 5736:\n",
    "* radius = 102 to obtain the whole grid\n",
    "\n",
    "* radius = 56 for maximal area not touching the boundaries\n",
    "\n",
    "start_triangle can be chosen between 0 and 7919"
   ]
  },
  {
   "cell_type": "markdown",
   "metadata": {},
   "source": [
    "Determine the cube coordinates:"
   ]
  },
  {
   "cell_type": "code",
   "execution_count": 5,
   "metadata": {
    "scrolled": false
   },
   "outputs": [
    {
     "name": "stdout",
     "output_type": "stream",
     "text": [
      "Round  1 has finished. Visited  4 triangles, thereof  3 new.\n",
      "Round  2 has finished. Visited  10 triangles, thereof  6 new.\n",
      "Round  3 has finished. Visited  19 triangles, thereof  9 new.\n",
      "Round  4 has finished. Visited  31 triangles, thereof  12 new.\n",
      "Round  5 has finished. Visited  46 triangles, thereof  15 new.\n",
      "Round  6 has finished. Visited  64 triangles, thereof  18 new.\n",
      "Round  7 has finished. Visited  85 triangles, thereof  21 new.\n",
      "Round  8 has finished. Visited  109 triangles, thereof  24 new.\n",
      "Round  9 has finished. Visited  136 triangles, thereof  27 new.\n",
      "Round  10 has finished. Visited  166 triangles, thereof  30 new.\n",
      "Round  11 has finished. Visited  199 triangles, thereof  33 new.\n",
      "Round  12 has finished. Visited  235 triangles, thereof  36 new.\n",
      "Round  13 has finished. Visited  274 triangles, thereof  39 new.\n",
      "Round  14 has finished. Visited  316 triangles, thereof  42 new.\n",
      "Round  15 has finished. Visited  361 triangles, thereof  45 new.\n",
      "Round  16 has finished. Visited  409 triangles, thereof  48 new.\n",
      "Round  17 has finished. Visited  460 triangles, thereof  51 new.\n",
      "Round  18 has finished. Visited  514 triangles, thereof  54 new.\n",
      "Round  19 has finished. Visited  571 triangles, thereof  57 new.\n",
      "Round  20 has finished. Visited  631 triangles, thereof  60 new.\n",
      "Round  21 has finished. Visited  694 triangles, thereof  63 new.\n",
      "Round  22 has finished. Visited  760 triangles, thereof  66 new.\n",
      "Round  23 has finished. Visited  829 triangles, thereof  69 new.\n",
      "Round  24 has finished. Visited  901 triangles, thereof  72 new.\n",
      "Round  25 has finished. Visited  976 triangles, thereof  75 new.\n",
      "Round  26 has finished. Visited  1054 triangles, thereof  78 new.\n",
      "Round  27 has finished. Visited  1135 triangles, thereof  81 new.\n",
      "Round  28 has finished. Visited  1219 triangles, thereof  84 new.\n",
      "Round  29 has finished. Visited  1306 triangles, thereof  87 new.\n",
      "Round  30 has finished. Visited  1396 triangles, thereof  90 new.\n",
      "Round  31 has finished. Visited  1489 triangles, thereof  93 new.\n",
      "Round  32 has finished. Visited  1585 triangles, thereof  96 new.\n",
      "Round  33 has finished. Visited  1684 triangles, thereof  99 new.\n",
      "Round  34 has finished. Visited  1786 triangles, thereof  102 new.\n",
      "Round  35 has finished. Visited  1891 triangles, thereof  105 new.\n",
      "Round  36 has finished. Visited  1999 triangles, thereof  108 new.\n",
      "Round  37 has finished. Visited  2110 triangles, thereof  111 new.\n",
      "Round  38 has finished. Visited  2224 triangles, thereof  114 new.\n",
      "Round  39 has finished. Visited  2341 triangles, thereof  117 new.\n",
      "Round  40 has finished. Visited  2461 triangles, thereof  120 new.\n",
      "Round  41 has finished. Visited  2584 triangles, thereof  123 new.\n",
      "Round  42 has finished. Visited  2710 triangles, thereof  126 new.\n",
      "Round  43 has finished. Visited  2839 triangles, thereof  129 new.\n",
      "Round  44 has finished. Visited  2971 triangles, thereof  132 new.\n",
      "Round  45 has finished. Visited  3106 triangles, thereof  135 new.\n",
      "Round  46 has finished. Visited  3244 triangles, thereof  138 new.\n",
      "Round  47 has finished. Visited  3385 triangles, thereof  141 new.\n",
      "Round  48 has finished. Visited  3529 triangles, thereof  144 new.\n",
      "Round  49 has finished. Visited  3676 triangles, thereof  147 new.\n",
      "Round  50 has finished. Visited  3826 triangles, thereof  150 new.\n",
      "Round  51 has finished. Visited  3979 triangles, thereof  153 new.\n",
      "Round  52 has finished. Visited  4131 triangles, thereof  152 new.\n",
      "Round  53 has finished. Visited  4283 triangles, thereof  152 new.\n",
      "Round  54 has finished. Visited  4437 triangles, thereof  154 new.\n",
      "Round  55 has finished. Visited  4593 triangles, thereof  156 new.\n",
      "Round  56 has finished. Visited  4745 triangles, thereof  152 new.\n",
      "Round  57 has finished. Visited  4899 triangles, thereof  154 new.\n",
      "Round  58 has finished. Visited  5052 triangles, thereof  153 new.\n"
     ]
    }
   ],
   "source": [
    "cube_coordinates = ccl.make_cube_coordinates (start_triangle, radius, print_progress=True)"
   ]
  },
  {
   "cell_type": "markdown",
   "metadata": {},
   "source": [
    "Integrate cloud data and converte into 3d-matrix:"
   ]
  },
  {
   "cell_type": "code",
   "execution_count": null,
   "metadata": {},
   "outputs": [],
   "source": [
    "\n",
    "cloud_datafield = ccl.make_cloud_datafield (cube_coordinates, radius, print_datafield = False)"
   ]
  },
  {
   "cell_type": "markdown",
   "metadata": {},
   "source": [
    "There are two types for connectivity on triangles: vertex and edge connectivity. Our module supports both of them. \n",
    "\n",
    "We start by considering vertex connectivity and later move on to edge connectivity."
   ]
  },
  {
   "cell_type": "markdown",
   "metadata": {},
   "source": [
    "### Vertex connectivity"
   ]
  },
  {
   "cell_type": "markdown",
   "metadata": {},
   "source": [
    "Calculate the connected components:"
   ]
  },
  {
   "cell_type": "code",
   "execution_count": null,
   "metadata": {},
   "outputs": [],
   "source": [
    "component_datafield_vertex = ccl.make_connected_components (cloud_datafield, connectivity = 'vertex', \n",
    "                                                            print_datafield = False)"
   ]
  },
  {
   "cell_type": "markdown",
   "metadata": {},
   "source": [
    "Write components into lists:"
   ]
  },
  {
   "cell_type": "code",
   "execution_count": null,
   "metadata": {},
   "outputs": [],
   "source": [
    "components_list_vertex = ccl.make_list_of_components (component_datafield_vertex, cube_coordinates, print_list = True)"
   ]
  },
  {
   "cell_type": "markdown",
   "metadata": {},
   "source": [
    "Highlight the components in plot of the grid:\n",
    "\n",
    "(Note that this needs latitude and longitude coordinates for the triangles, see paper!)"
   ]
  },
  {
   "cell_type": "code",
   "execution_count": null,
   "metadata": {},
   "outputs": [],
   "source": [
    "ccl.plotting(component_datafield_vertex, cube_coordinates, \n",
    "             save_plot = True, save_name = 'connected_components_vertex.pdf', \n",
    "             plot_title = 'connected components on icon (vertex connectivity)')"
   ]
  },
  {
   "cell_type": "markdown",
   "metadata": {},
   "source": [
    "### Edge connectivity "
   ]
  },
  {
   "cell_type": "markdown",
   "metadata": {},
   "source": [
    "Calculate the connected components:"
   ]
  },
  {
   "cell_type": "code",
   "execution_count": null,
   "metadata": {},
   "outputs": [],
   "source": [
    "component_datafield_edge = ccl.make_connected_components (cloud_datafield, connectivity = 'edge', \n",
    "                                                            print_datafield = False)"
   ]
  },
  {
   "cell_type": "markdown",
   "metadata": {},
   "source": [
    "Write components into lists:"
   ]
  },
  {
   "cell_type": "code",
   "execution_count": null,
   "metadata": {},
   "outputs": [],
   "source": [
    "components_list_edge = ccl.make_list_of_components (component_datafield_edge, cube_coordinates, print_list = True)"
   ]
  },
  {
   "cell_type": "markdown",
   "metadata": {},
   "source": [
    "Highlight the components in plot of the grid:\n",
    "\n",
    "(Note that this needs latitude and longitude coordinates for the triangles, see paper!)"
   ]
  },
  {
   "cell_type": "code",
   "execution_count": null,
   "metadata": {
    "scrolled": false
   },
   "outputs": [],
   "source": [
    "ccl.plotting(component_datafield_edge, cube_coordinates, \n",
    "             save_plot = True, save_name = 'connected_components_edge.pdf', \n",
    "             plot_title = 'connected components on icon (edge connectivity)')"
   ]
  },
  {
   "cell_type": "code",
   "execution_count": null,
   "metadata": {},
   "outputs": [],
   "source": []
  }
 ],
 "metadata": {
  "kernelspec": {
   "display_name": "Python 3",
   "language": "python",
   "name": "python3"
  },
  "language_info": {
   "codemirror_mode": {
    "name": "ipython",
    "version": 3
   },
   "file_extension": ".py",
   "mimetype": "text/x-python",
   "name": "python",
   "nbconvert_exporter": "python",
   "pygments_lexer": "ipython3",
   "version": "3.8.6"
  }
 },
 "nbformat": 4,
 "nbformat_minor": 2
}
